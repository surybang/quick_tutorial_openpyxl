{
 "cells": [
  {
   "cell_type": "markdown",
   "id": "b6a0af51",
   "metadata": {},
   "source": [
    "<center><h1>Les principales fonctions d'openpyxl</center></h1>"
   ]
  },
  {
   "cell_type": "markdown",
   "id": "89305239",
   "metadata": {},
   "source": [
    "Découvrons ensemble quelques fonctions pour manipuler un fichier Excel avec la librairie OpenPyxl.\n",
    "\n",
    "La documentation est disponible [ici](https://openpyxl.readthedocs.io/en/stable/tutorial.html)\n",
    "\n",
    "Nous utiliserons également Pandas car OpenPyxl est le \"moteur\" utilisé derrière certaines fonctions de Pandas lorsque l'on manipule des fichiers Excel. \n",
    "\n",
    "De plus, elles ont l'avantage d'être plus facile à utiliser."
   ]
  },
  {
   "cell_type": "markdown",
   "id": "ec593448",
   "metadata": {},
   "source": [
    "### Commençons par importer les packages"
   ]
  },
  {
   "cell_type": "code",
   "execution_count": 2,
   "id": "2fff141f",
   "metadata": {},
   "outputs": [],
   "source": [
    "import pandas as pd\n",
    "import openpyxl"
   ]
  },
  {
   "cell_type": "markdown",
   "id": "6dd71576",
   "metadata": {},
   "source": [
    "### Créer un fichier Excel\n",
    "\n",
    "Le plus simple reste ici d'utiliser un DataFrame Pandas et la méthode **to_excel()**"
   ]
  },
  {
   "cell_type": "code",
   "execution_count": 4,
   "id": "5de6707f",
   "metadata": {},
   "outputs": [],
   "source": [
    "df = pd.DataFrame({\n",
    "    'A': [1, 2, 3],\n",
    "    'B': [4, 5, 6],\n",
    "    'C': [7, 8, 9]\n",
    "})\n",
    "\n",
    "with pd.ExcelWriter('fichier.xlsx', engine='openpyxl') as writer:\n",
    "    df.to_excel(writer, sheet_name='Feuil1', index=False)\n"
   ]
  },
  {
   "cell_type": "markdown",
   "id": "aa31f581",
   "metadata": {},
   "source": [
    "Questions : \n",
    "- Qu'est ce qu'une méthode ? \n",
    "- À quoi sert le **with** ? "
   ]
  },
  {
   "cell_type": "markdown",
   "id": "243efa90",
   "metadata": {},
   "source": [
    "## Intéragir avec un fichier Excel\n",
    "\n",
    "Il faut d'abord se rappeler ce qui compose un fichier Excel. \n",
    "\n",
    "Un fichier Excel est un classeur (*workbook*) composé de feuilles (*worksheet*) qui sont à leur tour composées de cellules (*cells*).\n",
    "\n",
    "Nous pouvons ainsi se mettre d'accord sur le fait qu'un fichier Excel est un **objet** avec lequel nous pouvons intéragir avec diverses **méthodes** pour modifier ses caractéristiques (ses attributs).\n",
    "\n",
    "Essayons de modifier le contenu du fichier généré précedemment. \n",
    "\n",
    "Nous voulons créer une nouvelle feuille au sein de ce dernier. "
   ]
  },
  {
   "cell_type": "code",
   "execution_count": 5,
   "id": "d59079fb",
   "metadata": {},
   "outputs": [
    {
     "data": {
      "text/plain": [
       "<openpyxl.workbook.workbook.Workbook at 0x7f3c4a8adbd0>"
      ]
     },
     "execution_count": 5,
     "metadata": {},
     "output_type": "execute_result"
    }
   ],
   "source": [
    "# Charger le fichier excel avec openpyxl\n",
    "# Il faut charger le classeur (workbook) pour pouvoir le manipuler \n",
    "wb = openpyxl.load_workbook('fichier.xlsx')\n",
    "wb"
   ]
  },
  {
   "cell_type": "markdown",
   "id": "5b386666",
   "metadata": {},
   "source": [
    "Remarquez que nous ne pouvons pas afficher son contenu avec un *print* car **wb** est un **objet de type Workbook**\n",
    "\n",
    "Il faut d'abord accéder à un objet feuille avant de boucler sur son contenu."
   ]
  },
  {
   "cell_type": "code",
   "execution_count": 6,
   "id": "901280da",
   "metadata": {},
   "outputs": [
    {
     "name": "stdout",
     "output_type": "stream",
     "text": [
      "('A', 'B', 'C')\n",
      "(1, 4, 7)\n",
      "(2, 5, 8)\n",
      "(3, 6, 9)\n"
     ]
    }
   ],
   "source": [
    "sheet = wb['Feuil1'] # On utilise ici implicitement wb.__getitem__('Feuil1') pour accéder à la feuille\n",
    "\n",
    "# On itère ensuite sur les lignes de la feuille\n",
    "# avec la méthode iter_rows\n",
    "for row in sheet.iter_rows(values_only=True):\n",
    "    print(row)"
   ]
  },
  {
   "cell_type": "markdown",
   "id": "fcb271b1",
   "metadata": {},
   "source": [
    "Si la première question qui vous vient à l'esprit c'est : \"Mais comment j'aurai pu savoir que pour accéder à une feuille, il fallait utiliser cette syntaxe wb['nom_feuille'] ?\"\n",
    "\n",
    "> La réponse est simple, il suffit de lire la documentation"
   ]
  },
  {
   "cell_type": "markdown",
   "id": "d3ee8981",
   "metadata": {},
   "source": [
    "Comme énoncé plus tôt, les objets obtenus avec OpenPyxl possède des attributs et des méthodes. \n",
    "\n",
    "Il peut exister plusieurs niveau entre les attributs, nous allons dans notre cas chercher à retirer la grille.\n",
    "\n",
    "Pour cela nous utilisons l'objet **sheet** puis son attribut **sheet_view** et enfin l'attribut **showGridLines**. "
   ]
  },
  {
   "cell_type": "code",
   "execution_count": 7,
   "id": "04888d5c",
   "metadata": {},
   "outputs": [],
   "source": [
    "sheet.sheet_view.showGridLines = False"
   ]
  },
  {
   "cell_type": "markdown",
   "id": "d45d5db0",
   "metadata": {},
   "source": [
    "Pour explorer les différents attributs et méthodes, vous pouvez utiliser la fonction **dir()** de Python. "
   ]
  },
  {
   "cell_type": "code",
   "execution_count": 27,
   "id": "83213581",
   "metadata": {},
   "outputs": [
    {
     "data": {
      "text/plain": [
       "['__add__',\n",
       " '__attrs__',\n",
       " '__class__',\n",
       " '__copy__',\n",
       " '__delattr__',\n",
       " '__dict__',\n",
       " '__dir__',\n",
       " '__doc__',\n",
       " '__elements__',\n",
       " '__eq__',\n",
       " '__format__',\n",
       " '__ge__',\n",
       " '__getattribute__',\n",
       " '__gt__',\n",
       " '__hash__',\n",
       " '__init__',\n",
       " '__init_subclass__',\n",
       " '__iter__',\n",
       " '__le__',\n",
       " '__lt__',\n",
       " '__module__',\n",
       " '__namespaced__',\n",
       " '__ne__',\n",
       " '__nested__',\n",
       " '__new__',\n",
       " '__reduce__',\n",
       " '__reduce_ex__',\n",
       " '__repr__',\n",
       " '__setattr__',\n",
       " '__sizeof__',\n",
       " '__str__',\n",
       " '__subclasshook__',\n",
       " '__weakref__',\n",
       " 'colorId',\n",
       " 'defaultGridColor',\n",
       " 'from_tree',\n",
       " 'idx_base',\n",
       " 'namespace',\n",
       " 'pane',\n",
       " 'rightToLeft',\n",
       " 'selection',\n",
       " 'showFormulas',\n",
       " 'showGridLines',\n",
       " 'showOutlineSymbols',\n",
       " 'showRowColHeaders',\n",
       " 'showRuler',\n",
       " 'showWhiteSpace',\n",
       " 'showZeros',\n",
       " 'tabSelected',\n",
       " 'tagname',\n",
       " 'to_tree',\n",
       " 'topLeftCell',\n",
       " 'view',\n",
       " 'windowProtection',\n",
       " 'workbookViewId',\n",
       " 'zoomScale',\n",
       " 'zoomScaleNormal',\n",
       " 'zoomScalePageLayoutView',\n",
       " 'zoomScaleSheetLayoutView',\n",
       " 'zoomToFit']"
      ]
     },
     "execution_count": 27,
     "metadata": {},
     "output_type": "execute_result"
    }
   ],
   "source": [
    "dir(sheet.sheet_view)"
   ]
  },
  {
   "cell_type": "markdown",
   "id": "264603d2",
   "metadata": {},
   "source": [
    "Nous avons vu plus haut comment afficher tout le contenu d'une feuille mais nous pouvons aussi naturellement accéder à une cellule et la manipuler"
   ]
  },
  {
   "cell_type": "code",
   "execution_count": 8,
   "id": "f6fb95d1",
   "metadata": {},
   "outputs": [
    {
     "data": {
      "text/plain": [
       "'A'"
      ]
     },
     "execution_count": 8,
     "metadata": {},
     "output_type": "execute_result"
    }
   ],
   "source": [
    "# De la même manière, on accède à une cellule avec sheet['nom_de_la_cellule']\n",
    "# Il faut ensuite utiliser son attribut value pour accéder à la valeur de la cellule\n",
    "sheet['A1'].value\n"
   ]
  },
  {
   "cell_type": "markdown",
   "id": "387018b2",
   "metadata": {},
   "source": [
    "On peut ensuite lui assigner une nouvelle valeur"
   ]
  },
  {
   "cell_type": "code",
   "execution_count": 9,
   "id": "4ff0d209",
   "metadata": {},
   "outputs": [
    {
     "data": {
      "text/plain": [
       "'Hello'"
      ]
     },
     "execution_count": 9,
     "metadata": {},
     "output_type": "execute_result"
    }
   ],
   "source": [
    "sheet['A1'] = 'Hello'\n",
    "sheet['A1'].value"
   ]
  },
  {
   "cell_type": "markdown",
   "id": "1a5ab32b",
   "metadata": {},
   "source": [
    "Question :\n",
    "- À votre avis, le fichier Excel a-t'il lui aussi été modifié ? (Ouvrez le fichier pour vous en assurer et expliquez)"
   ]
  },
  {
   "cell_type": "markdown",
   "id": "642a85c9",
   "metadata": {},
   "source": [
    "On peut aussi accéder à plusieurs cellules à la fois "
   ]
  },
  {
   "cell_type": "code",
   "execution_count": 10,
   "id": "ca54d9c6",
   "metadata": {},
   "outputs": [
    {
     "name": "stdout",
     "output_type": "stream",
     "text": [
      "Hello\n",
      "B\n",
      "C\n",
      "1\n",
      "4\n",
      "7\n",
      "2\n",
      "5\n",
      "8\n"
     ]
    }
   ],
   "source": [
    "cell_range = sheet['A1':'C3']\n",
    "for row in cell_range:\n",
    "    for cell in row:\n",
    "        print(cell.value)"
   ]
  },
  {
   "cell_type": "markdown",
   "id": "6aa0821c",
   "metadata": {},
   "source": [
    "Vous remarquerez que la lecture se fait là aussi en ligne.\n",
    "\n",
    "Si on souhaite lire en colonne, il faut utiliser **iter_columns()**"
   ]
  },
  {
   "cell_type": "code",
   "execution_count": 11,
   "id": "2c5cbb9f",
   "metadata": {},
   "outputs": [
    {
     "name": "stdout",
     "output_type": "stream",
     "text": [
      "Hello\n",
      "1\n",
      "2\n",
      "B\n",
      "4\n",
      "5\n",
      "C\n",
      "7\n",
      "8\n"
     ]
    }
   ],
   "source": [
    "for col in sheet.iter_cols(min_row=1, max_row=3, min_col=1, max_col=3):\n",
    "    for cell in col:\n",
    "        print(cell.value)"
   ]
  },
  {
   "cell_type": "markdown",
   "id": "899d4621",
   "metadata": {},
   "source": [
    "Nous avons vu les principales fonctions pour intéragir avec les données dans un fichier, il reste beaucoup de choses à voir, comme la validation de données, les styles (couleurs et *font*). \n",
    "\n",
    "Une fois de plus, référez-vous à [la documentation en ligne.](https://openpyxl.readthedocs.io/en/stable/tutorial.html)"
   ]
  },
  {
   "cell_type": "code",
   "execution_count": 12,
   "id": "a0bae37b",
   "metadata": {},
   "outputs": [],
   "source": [
    "# Sauvegardons ce que nous avons fait à présent\n",
    "wb.save('fichier.xlsx')"
   ]
  },
  {
   "cell_type": "markdown",
   "id": "ac9bd8df",
   "metadata": {},
   "source": [
    "### Les formules\n",
    "\n",
    "Tout l'intérêt d'openpyxl réside dans la pratique d'injecter des formules Excel pour permettre à l'utilisateur final, souvent habitué à Excel, de pouvoir les utiliser et les comprendre à son tour. "
   ]
  },
  {
   "cell_type": "code",
   "execution_count": null,
   "id": "385dba16",
   "metadata": {},
   "outputs": [],
   "source": [
    "# Ici, nous voulons faire la somme des cellules A2 à A4 dans la cellule A5\n",
    "# avec la fonction excel SUM \n",
    "sheet['A5'] = '=SUM(A2:A4)'\n",
    "wb.save('fichier.xlsx')"
   ]
  },
  {
   "cell_type": "markdown",
   "id": "44529e77",
   "metadata": {},
   "source": [
    "Particularité d'openpyxl, il faut utiliser les noms des fonctions en ANGLAIS, de la même façon, les séparateurs ne sont plus des **points-virgules (;)** mais simplement des **virgules (,)**\n",
    "\n",
    "Par ailleurs, il est tout à fait possible de rencontrer des erreurs sur certaines fonctions comme **UNIQUE()**, pour contourner ce problème, il faut utiliser le préfixe **_xlfn.**\n",
    "\n",
    "Pour vous assurez qu'une fonction est présente, vous pouvez utiliser **FORMULAE**"
   ]
  },
  {
   "cell_type": "code",
   "execution_count": 15,
   "id": "5c26d715",
   "metadata": {},
   "outputs": [
    {
     "data": {
      "text/plain": [
       "True"
      ]
     },
     "execution_count": 15,
     "metadata": {},
     "output_type": "execute_result"
    }
   ],
   "source": [
    "from openpyxl.utils import FORMULAE\n",
    "\n",
    "# On peut tester la présence d'une fonction dans le module openpyxl.utils.FORMULAE\n",
    "'SUM' in FORMULAE"
   ]
  },
  {
   "cell_type": "code",
   "execution_count": 16,
   "id": "dac827ba",
   "metadata": {},
   "outputs": [
    {
     "data": {
      "text/plain": [
       "False"
      ]
     },
     "execution_count": 16,
     "metadata": {},
     "output_type": "execute_result"
    }
   ],
   "source": [
    "'UNIQUE' in FORMULAE"
   ]
  },
  {
   "cell_type": "markdown",
   "id": "e6ba7810",
   "metadata": {},
   "source": [
    "Explication des cellules précédentes :\n",
    "\n",
    "```python\n",
    "'SUM' in FORMULAE\n",
    "```\n",
    "Renvoie True car SUM est disponible directement tandis que \n",
    "\n",
    "```python\n",
    "'UNIQUE' in FORMULAE\n",
    "```\n",
    "Renvoie False \n",
    "\n",
    "Ainsi, pour utiliser **UNIQUE**, nous devons préfixer la formule par **_xlfn.**\n",
    "\n",
    "> Subtilité supplémentaire, **UNIQUE** est un fonction *array* c'est à dire qu'elle renvoie **une plage de cellules**, il faut donc définir la plage glissante sur laquelle on va afficher ce qu'elle renvoie. "
   ]
  },
  {
   "cell_type": "code",
   "execution_count": 19,
   "id": "df1a63c9",
   "metadata": {},
   "outputs": [],
   "source": [
    "from openpyxl.worksheet.formula import ArrayFormula\n",
    "\n",
    "formula = '=_xlfn.UNIQUE(A2:A4)'\n",
    "sheet['A6'] = ArrayFormula(f\"A6:A8\", formula)\n",
    "wb.save('fichier.xlsx')\n"
   ]
  },
  {
   "cell_type": "markdown",
   "id": "b15fd6da",
   "metadata": {},
   "source": [
    "### Les graphiques\n",
    "\n",
    "Grâce à Openpyxl, vous pouvez créer des visualisations natives d'Excel afin que l'utilisateur final puisse intéragir avec des dernières. \n",
    "\n",
    "Toutes les visualisations d'Excel sont disponibles, référez-vous à la [documentation](https://openpyxl.readthedocs.io/en/stable/charts/introduction.html#charts) \n"
   ]
  },
  {
   "cell_type": "code",
   "execution_count": null,
   "id": "d8e28d4f",
   "metadata": {},
   "outputs": [],
   "source": [
    "# Créer un graphique avec openpyxl\n",
    "from openpyxl.chart import BarChart, Reference\n",
    "\n",
    "# Je vous conseille de recharger en mémoire le fichier excel \n",
    "# à chaque modification sinon vous pourriez avoir des surprises\n",
    "wb = openpyxl.load_workbook('fichier.xlsx')\n",
    "sheet = wb['Feuil1']\n",
    "\n",
    "## Paramètres du graphique\n",
    "chart = BarChart() # on initialise le graphique\n",
    "chart.type = \"bar\" # on chosit son type\n",
    "chart.style = 11 # on peut définir un style\n",
    "chart.title = \"Mon graphique\" # titre du graphique\n",
    "chart.y_axis.title = 'Y axis'\n",
    "chart.x_axis.title = 'X axis'\n",
    "\n",
    "\n",
    "#cats = Reference(sheet, min_col=1, min_row=2, max_row=4, max_col=3) # Les titres\n",
    "data = Reference(sheet, min_col=1, min_row=1, max_row=4, max_col=3) # Les valeurs\n",
    "\n",
    "\n",
    "# Ajouter les données\n",
    "chart.add_data(data, titles_from_data=True)\n",
    "\n",
    "#Légende\n",
    "#chart.set_categories(cats)\n",
    "\n",
    "#Ajouter le graph\n",
    "sheet.add_chart(chart, \"A23\")\n",
    "wb.save('fichier.xlsx')\n",
    "\n",
    "# De même, il faut utiliser close() pour fermer le fichier en mémoire\n",
    "wb.close()"
   ]
  }
 ],
 "metadata": {
  "kernelspec": {
   "display_name": ".venv",
   "language": "python",
   "name": "python3"
  },
  "language_info": {
   "codemirror_mode": {
    "name": "ipython",
    "version": 3
   },
   "file_extension": ".py",
   "mimetype": "text/x-python",
   "name": "python",
   "nbconvert_exporter": "python",
   "pygments_lexer": "ipython3",
   "version": "3.10.12"
  }
 },
 "nbformat": 4,
 "nbformat_minor": 5
}
